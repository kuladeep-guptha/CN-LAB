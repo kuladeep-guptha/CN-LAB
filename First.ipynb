{
 "cells": [
  {
   "cell_type": "code",
   "execution_count": 31,
   "metadata": {},
   "outputs": [
    {
     "name": "stdout",
     "output_type": "stream",
     "text": [
      "3\n"
     ]
    }
   ],
   "source": [
    "a=[\"hello\",1,True]\n",
    "print(len(a))"
   ]
  },
  {
   "cell_type": "code",
   "execution_count": 32,
   "metadata": {},
   "outputs": [
    {
     "name": "stdout",
     "output_type": "stream",
     "text": [
      "['world', 1, True, 'last']\n",
      "['world2', 1, True, 'last']\n",
      "[]\n"
     ]
    }
   ],
   "source": [
    "a.append(\"last\")\n",
    "b=a\n",
    "c=a.copy()\n",
    "b[0]=\"world\"\n",
    "print(a)\n",
    "c[0]=\"world2\"\n",
    "print(c)\n",
    "a.clear()\n",
    "print(a)"
   ]
  },
  {
   "cell_type": "code",
   "execution_count": 33,
   "metadata": {},
   "outputs": [
    {
     "name": "stdout",
     "output_type": "stream",
     "text": [
      "0\n"
     ]
    }
   ],
   "source": [
    "print(a.count(\"last\"))"
   ]
  },
  {
   "cell_t